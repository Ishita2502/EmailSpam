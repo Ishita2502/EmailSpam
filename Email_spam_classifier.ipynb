{
  "nbformat": 4,
  "nbformat_minor": 0,
  "metadata": {
    "colab": {
      "provenance": [],
      "authorship_tag": "ABX9TyMBi30zrmVKfw8aGE9gpZef",
      "include_colab_link": true
    },
    "kernelspec": {
      "name": "python3",
      "display_name": "Python 3"
    },
    "language_info": {
      "name": "python"
    }
  },
  "cells": [
    {
      "cell_type": "markdown",
      "metadata": {
        "id": "view-in-github",
        "colab_type": "text"
      },
      "source": [
        "<a href=\"https://colab.research.google.com/github/Ishita2502/EmailSpam/blob/side1/Email_spam_classifier.ipynb\" target=\"_parent\"><img src=\"https://colab.research.google.com/assets/colab-badge.svg\" alt=\"Open In Colab\"/></a>"
      ]
    },
    {
      "cell_type": "markdown",
      "source": [
        "TOKENIZE"
      ],
      "metadata": {
        "id": "FuLIoofj6n17"
      }
    },
    {
      "cell_type": "code",
      "source": [
        "import nltk\n",
        "nltk.download('punkt')"
      ],
      "metadata": {
        "colab": {
          "base_uri": "https://localhost:8080/"
        },
        "id": "9RicS3Ok6pwu",
        "outputId": "647a1edf-0163-4b1a-c958-92f04f43475a"
      },
      "execution_count": null,
      "outputs": [
        {
          "output_type": "stream",
          "name": "stdout",
          "text": [
            "[nltk_data] Downloading package punkt to /root/nltk_data...\n",
            "[nltk_data]   Unzipping tokenizers/punkt.zip.\n"
          ]
        },
        {
          "output_type": "execute_result",
          "data": {
            "text/plain": [
              "True"
            ]
          },
          "metadata": {},
          "execution_count": 1
        }
      ]
    },
    {
      "cell_type": "code",
      "source": [
        "from nltk.tokenize import RegexpTokenizer\n",
        "\n",
        "mytokenizer = RegexpTokenizer('\\w+')"
      ],
      "metadata": {
        "id": "IjGpCbmo60te"
      },
      "execution_count": null,
      "outputs": []
    },
    {
      "cell_type": "code",
      "source": [
        "def tok(x):\n",
        "  return(mytokenizer.tokenize(x))"
      ],
      "metadata": {
        "id": "oHrCeSjP7KuT"
      },
      "execution_count": null,
      "outputs": []
    },
    {
      "cell_type": "markdown",
      "source": [
        "REMOVE Special Characters"
      ],
      "metadata": {
        "id": "KYzrf97w8R3G"
      }
    },
    {
      "cell_type": "code",
      "source": [
        "import re"
      ],
      "metadata": {
        "id": "X9v8XurP8U73"
      },
      "execution_count": null,
      "outputs": []
    },
    {
      "cell_type": "code",
      "source": [
        "def remsc(text):\n",
        "  pattern='[0-9_]'\n",
        "  data=[re.sub(pattern,'',i) for i in text]\n",
        "  return data"
      ],
      "metadata": {
        "id": "JCQNGnal8WI7"
      },
      "execution_count": null,
      "outputs": []
    },
    {
      "cell_type": "markdown",
      "source": [
        "Stop Words"
      ],
      "metadata": {
        "id": "MbI1qwGu8ytT"
      }
    },
    {
      "cell_type": "code",
      "source": [
        "from nltk.corpus import stopwords\n",
        "nltk.download('stopwords')"
      ],
      "metadata": {
        "colab": {
          "base_uri": "https://localhost:8080/"
        },
        "id": "6ESmzbFP83H8",
        "outputId": "a6e9e966-3a78-4cc9-981a-3c4acc6513eb"
      },
      "execution_count": null,
      "outputs": [
        {
          "output_type": "stream",
          "name": "stdout",
          "text": [
            "[nltk_data] Downloading package stopwords to /root/nltk_data...\n",
            "[nltk_data]   Unzipping corpora/stopwords.zip.\n"
          ]
        },
        {
          "output_type": "execute_result",
          "data": {
            "text/plain": [
              "True"
            ]
          },
          "metadata": {},
          "execution_count": 6
        }
      ]
    },
    {
      "cell_type": "code",
      "source": [
        "sw=stopwords.words('english')\n",
        "sw"
      ],
      "metadata": {
        "colab": {
          "base_uri": "https://localhost:8080/"
        },
        "id": "rpdxie6O9j1h",
        "outputId": "5263740d-6c03-445d-8e49-233aecb7be59"
      },
      "execution_count": null,
      "outputs": [
        {
          "output_type": "execute_result",
          "data": {
            "text/plain": [
              "['i',\n",
              " 'me',\n",
              " 'my',\n",
              " 'myself',\n",
              " 'we',\n",
              " 'our',\n",
              " 'ours',\n",
              " 'ourselves',\n",
              " 'you',\n",
              " \"you're\",\n",
              " \"you've\",\n",
              " \"you'll\",\n",
              " \"you'd\",\n",
              " 'your',\n",
              " 'yours',\n",
              " 'yourself',\n",
              " 'yourselves',\n",
              " 'he',\n",
              " 'him',\n",
              " 'his',\n",
              " 'himself',\n",
              " 'she',\n",
              " \"she's\",\n",
              " 'her',\n",
              " 'hers',\n",
              " 'herself',\n",
              " 'it',\n",
              " \"it's\",\n",
              " 'its',\n",
              " 'itself',\n",
              " 'they',\n",
              " 'them',\n",
              " 'their',\n",
              " 'theirs',\n",
              " 'themselves',\n",
              " 'what',\n",
              " 'which',\n",
              " 'who',\n",
              " 'whom',\n",
              " 'this',\n",
              " 'that',\n",
              " \"that'll\",\n",
              " 'these',\n",
              " 'those',\n",
              " 'am',\n",
              " 'is',\n",
              " 'are',\n",
              " 'was',\n",
              " 'were',\n",
              " 'be',\n",
              " 'been',\n",
              " 'being',\n",
              " 'have',\n",
              " 'has',\n",
              " 'had',\n",
              " 'having',\n",
              " 'do',\n",
              " 'does',\n",
              " 'did',\n",
              " 'doing',\n",
              " 'a',\n",
              " 'an',\n",
              " 'the',\n",
              " 'and',\n",
              " 'but',\n",
              " 'if',\n",
              " 'or',\n",
              " 'because',\n",
              " 'as',\n",
              " 'until',\n",
              " 'while',\n",
              " 'of',\n",
              " 'at',\n",
              " 'by',\n",
              " 'for',\n",
              " 'with',\n",
              " 'about',\n",
              " 'against',\n",
              " 'between',\n",
              " 'into',\n",
              " 'through',\n",
              " 'during',\n",
              " 'before',\n",
              " 'after',\n",
              " 'above',\n",
              " 'below',\n",
              " 'to',\n",
              " 'from',\n",
              " 'up',\n",
              " 'down',\n",
              " 'in',\n",
              " 'out',\n",
              " 'on',\n",
              " 'off',\n",
              " 'over',\n",
              " 'under',\n",
              " 'again',\n",
              " 'further',\n",
              " 'then',\n",
              " 'once',\n",
              " 'here',\n",
              " 'there',\n",
              " 'when',\n",
              " 'where',\n",
              " 'why',\n",
              " 'how',\n",
              " 'all',\n",
              " 'any',\n",
              " 'both',\n",
              " 'each',\n",
              " 'few',\n",
              " 'more',\n",
              " 'most',\n",
              " 'other',\n",
              " 'some',\n",
              " 'such',\n",
              " 'no',\n",
              " 'nor',\n",
              " 'not',\n",
              " 'only',\n",
              " 'own',\n",
              " 'same',\n",
              " 'so',\n",
              " 'than',\n",
              " 'too',\n",
              " 'very',\n",
              " 's',\n",
              " 't',\n",
              " 'can',\n",
              " 'will',\n",
              " 'just',\n",
              " 'don',\n",
              " \"don't\",\n",
              " 'should',\n",
              " \"should've\",\n",
              " 'now',\n",
              " 'd',\n",
              " 'll',\n",
              " 'm',\n",
              " 'o',\n",
              " 're',\n",
              " 've',\n",
              " 'y',\n",
              " 'ain',\n",
              " 'aren',\n",
              " \"aren't\",\n",
              " 'couldn',\n",
              " \"couldn't\",\n",
              " 'didn',\n",
              " \"didn't\",\n",
              " 'doesn',\n",
              " \"doesn't\",\n",
              " 'hadn',\n",
              " \"hadn't\",\n",
              " 'hasn',\n",
              " \"hasn't\",\n",
              " 'haven',\n",
              " \"haven't\",\n",
              " 'isn',\n",
              " \"isn't\",\n",
              " 'ma',\n",
              " 'mightn',\n",
              " \"mightn't\",\n",
              " 'mustn',\n",
              " \"mustn't\",\n",
              " 'needn',\n",
              " \"needn't\",\n",
              " 'shan',\n",
              " \"shan't\",\n",
              " 'shouldn',\n",
              " \"shouldn't\",\n",
              " 'wasn',\n",
              " \"wasn't\",\n",
              " 'weren',\n",
              " \"weren't\",\n",
              " 'won',\n",
              " \"won't\",\n",
              " 'wouldn',\n",
              " \"wouldn't\"]"
            ]
          },
          "metadata": {},
          "execution_count": 7
        }
      ]
    },
    {
      "cell_type": "markdown",
      "source": [
        "Bag Of Words"
      ],
      "metadata": {
        "id": "Xb72YyRp_sQg"
      }
    },
    {
      "cell_type": "code",
      "source": [
        "s1='Send us your @ password'\n",
        "s2='Send us your #review'\n",
        "s3='Review your_ password'\n",
        "s4='Review Us'\n",
        "s5='Send us your 10 password'\n",
        "s6='Send us your account'\n",
        "examples=[s1,s2,s3,s4,s5,s6]"
      ],
      "metadata": {
        "id": "YmvMJKJN_tb0"
      },
      "execution_count": null,
      "outputs": []
    },
    {
      "cell_type": "code",
      "source": [
        "clean_data= remsc(examples)\n",
        "clean_data"
      ],
      "metadata": {
        "colab": {
          "base_uri": "https://localhost:8080/"
        },
        "id": "Kc_OCwwGAVqv",
        "outputId": "2cd99831-15b3-431e-b127-904da402085f"
      },
      "execution_count": null,
      "outputs": [
        {
          "output_type": "execute_result",
          "data": {
            "text/plain": [
              "['Send us your @ password',\n",
              " 'Send us your #review',\n",
              " 'Review your password',\n",
              " 'Review Us',\n",
              " 'Send us your  password',\n",
              " 'Send us your account']"
            ]
          },
          "metadata": {},
          "execution_count": 9
        }
      ]
    },
    {
      "cell_type": "code",
      "source": [
        "from sklearn.feature_extraction.text import TfidfVectorizer\n",
        "Vectorizer= TfidfVectorizer(tokenizer=tok,stop_words=sw, ngram_range=(1,1))"
      ],
      "metadata": {
        "id": "tb5HzG96AcCl"
      },
      "execution_count": null,
      "outputs": []
    },
    {
      "cell_type": "code",
      "source": [
        "my_final_matrix=Vectorizer.fit_transform(clean_data)\n",
        "print(my_final_matrix.toarray())"
      ],
      "metadata": {
        "colab": {
          "base_uri": "https://localhost:8080/"
        },
        "id": "i6W4mwZcDjAH",
        "outputId": "712928d7-565c-4aaf-a55a-75d1253a3715"
      },
      "execution_count": null,
      "outputs": [
        {
          "output_type": "stream",
          "name": "stdout",
          "text": [
            "[[0.         0.66198287 0.         0.56726902 0.48988217]\n",
            " [0.         0.         0.66198287 0.56726902 0.48988217]\n",
            " [0.         0.70710678 0.70710678 0.         0.        ]\n",
            " [0.         0.         0.80383327 0.         0.59485466]\n",
            " [0.         0.66198287 0.         0.56726902 0.48988217]\n",
            " [0.78702713 0.         0.         0.46691105 0.40321504]]\n"
          ]
        }
      ]
    },
    {
      "cell_type": "code",
      "source": [
        "Vectorizer.get_feature_names()"
      ],
      "metadata": {
        "colab": {
          "base_uri": "https://localhost:8080/"
        },
        "id": "swpr7j9lDLva",
        "outputId": "b91cabaf-4424-477d-a985-95ee2fa7649e"
      },
      "execution_count": null,
      "outputs": [
        {
          "output_type": "stream",
          "name": "stderr",
          "text": [
            "/usr/local/lib/python3.7/dist-packages/sklearn/utils/deprecation.py:87: FutureWarning: Function get_feature_names is deprecated; get_feature_names is deprecated in 1.0 and will be removed in 1.2. Please use get_feature_names_out instead.\n",
            "  warnings.warn(msg, category=FutureWarning)\n"
          ]
        },
        {
          "output_type": "execute_result",
          "data": {
            "text/plain": [
              "['account', 'password', 'review', 'send', 'us']"
            ]
          },
          "metadata": {},
          "execution_count": 12
        }
      ]
    },
    {
      "cell_type": "code",
      "source": [
        "from sklearn.feature_extraction.text import TfidfVectorizer\n",
        "Vectorizer= TfidfVectorizer(tokenizer=tok,stop_words=sw, ngram_range=(1,2))"
      ],
      "metadata": {
        "id": "kGiA9sftDu0Y"
      },
      "execution_count": null,
      "outputs": []
    },
    {
      "cell_type": "code",
      "source": [
        "my_final_matrix=Vectorizer.fit_transform(clean_data)\n",
        "print(my_final_matrix.toarray())"
      ],
      "metadata": {
        "colab": {
          "base_uri": "https://localhost:8080/"
        },
        "id": "sH1PXdajETcP",
        "outputId": "52741d3b-0361-4c72-aefd-0982b3a00dcc"
      },
      "execution_count": null,
      "outputs": [
        {
          "output_type": "stream",
          "name": "stdout",
          "text": [
            "[[0.         0.47569405 0.         0.         0.         0.40763366\n",
            "  0.40763366 0.35202427 0.         0.56343915 0.        ]\n",
            " [0.         0.         0.44269192 0.         0.         0.37935334\n",
            "  0.37935334 0.32760196 0.         0.         0.63943952]\n",
            " [0.         0.49468646 0.49468646 0.71454223 0.         0.\n",
            "  0.         0.         0.         0.         0.        ]\n",
            " [0.         0.         0.52457317 0.         0.75771163 0.\n",
            "  0.         0.38819592 0.         0.         0.        ]\n",
            " [0.         0.47569405 0.         0.         0.         0.40763366\n",
            "  0.40763366 0.35202427 0.         0.56343915 0.        ]\n",
            " [0.58061168 0.         0.         0.         0.         0.34445319\n",
            "  0.34445319 0.29746288 0.58061168 0.         0.        ]]\n"
          ]
        }
      ]
    },
    {
      "cell_type": "code",
      "source": [
        "Vectorizer.get_feature_names()"
      ],
      "metadata": {
        "colab": {
          "base_uri": "https://localhost:8080/"
        },
        "id": "x_05O1IvEViR",
        "outputId": "820012f7-8a39-4847-93ca-76d0b76dbb70"
      },
      "execution_count": null,
      "outputs": [
        {
          "output_type": "stream",
          "name": "stderr",
          "text": [
            "/usr/local/lib/python3.7/dist-packages/sklearn/utils/deprecation.py:87: FutureWarning: Function get_feature_names is deprecated; get_feature_names is deprecated in 1.0 and will be removed in 1.2. Please use get_feature_names_out instead.\n",
            "  warnings.warn(msg, category=FutureWarning)\n"
          ]
        },
        {
          "output_type": "execute_result",
          "data": {
            "text/plain": [
              "['account',\n",
              " 'password',\n",
              " 'review',\n",
              " 'review password',\n",
              " 'review us',\n",
              " 'send',\n",
              " 'send us',\n",
              " 'us',\n",
              " 'us account',\n",
              " 'us password',\n",
              " 'us review']"
            ]
          },
          "metadata": {},
          "execution_count": 15
        }
      ]
    },
    {
      "cell_type": "markdown",
      "source": [
        "Email Spam Classifier"
      ],
      "metadata": {
        "id": "hCwIUyA8ElaR"
      }
    },
    {
      "cell_type": "code",
      "source": [
        "from google.colab import drive\n",
        "drive.mount('/gdrive')"
      ],
      "metadata": {
        "colab": {
          "base_uri": "https://localhost:8080/"
        },
        "id": "zoqtI5ygEnCa",
        "outputId": "82cf9351-ff5c-4679-b2cd-5b002436c47e"
      },
      "execution_count": null,
      "outputs": [
        {
          "output_type": "stream",
          "name": "stdout",
          "text": [
            "Mounted at /gdrive\n"
          ]
        }
      ]
    },
    {
      "cell_type": "code",
      "source": [
        "import pandas as pd\n",
        "import numpy as np"
      ],
      "metadata": {
        "id": "UOlj_bIcFNdL"
      },
      "execution_count": null,
      "outputs": []
    },
    {
      "cell_type": "code",
      "source": [
        "path= '/gdrive/My Drive/Online MLCC : Oct 2021/Data/Classwork/'"
      ],
      "metadata": {
        "id": "uSHkrRdFFeQC"
      },
      "execution_count": null,
      "outputs": []
    },
    {
      "cell_type": "code",
      "source": [
        "data=pd.read_csv(path+'emails.csv')"
      ],
      "metadata": {
        "id": "E6r4hi-nFu_A"
      },
      "execution_count": null,
      "outputs": []
    },
    {
      "cell_type": "code",
      "source": [
        "data.head()"
      ],
      "metadata": {
        "colab": {
          "base_uri": "https://localhost:8080/",
          "height": 206
        },
        "id": "VDaFLvliF6tS",
        "outputId": "4e584ecb-e44a-4558-8153-e35e59d33733"
      },
      "execution_count": null,
      "outputs": [
        {
          "output_type": "execute_result",
          "data": {
            "text/html": [
              "\n",
              "  <div id=\"df-793bb6f3-e395-403c-9601-43f9421ae47f\">\n",
              "    <div class=\"colab-df-container\">\n",
              "      <div>\n",
              "<style scoped>\n",
              "    .dataframe tbody tr th:only-of-type {\n",
              "        vertical-align: middle;\n",
              "    }\n",
              "\n",
              "    .dataframe tbody tr th {\n",
              "        vertical-align: top;\n",
              "    }\n",
              "\n",
              "    .dataframe thead th {\n",
              "        text-align: right;\n",
              "    }\n",
              "</style>\n",
              "<table border=\"1\" class=\"dataframe\">\n",
              "  <thead>\n",
              "    <tr style=\"text-align: right;\">\n",
              "      <th></th>\n",
              "      <th>text</th>\n",
              "      <th>spam</th>\n",
              "    </tr>\n",
              "  </thead>\n",
              "  <tbody>\n",
              "    <tr>\n",
              "      <th>0</th>\n",
              "      <td>Subject: naturally irresistible your corporate...</td>\n",
              "      <td>1</td>\n",
              "    </tr>\n",
              "    <tr>\n",
              "      <th>1</th>\n",
              "      <td>Subject: the stock trading gunslinger  fanny i...</td>\n",
              "      <td>1</td>\n",
              "    </tr>\n",
              "    <tr>\n",
              "      <th>2</th>\n",
              "      <td>Subject: unbelievable new homes made easy  im ...</td>\n",
              "      <td>1</td>\n",
              "    </tr>\n",
              "    <tr>\n",
              "      <th>3</th>\n",
              "      <td>Subject: 4 color printing special  request add...</td>\n",
              "      <td>1</td>\n",
              "    </tr>\n",
              "    <tr>\n",
              "      <th>4</th>\n",
              "      <td>Subject: do not have money , get software cds ...</td>\n",
              "      <td>1</td>\n",
              "    </tr>\n",
              "  </tbody>\n",
              "</table>\n",
              "</div>\n",
              "      <button class=\"colab-df-convert\" onclick=\"convertToInteractive('df-793bb6f3-e395-403c-9601-43f9421ae47f')\"\n",
              "              title=\"Convert this dataframe to an interactive table.\"\n",
              "              style=\"display:none;\">\n",
              "        \n",
              "  <svg xmlns=\"http://www.w3.org/2000/svg\" height=\"24px\"viewBox=\"0 0 24 24\"\n",
              "       width=\"24px\">\n",
              "    <path d=\"M0 0h24v24H0V0z\" fill=\"none\"/>\n",
              "    <path d=\"M18.56 5.44l.94 2.06.94-2.06 2.06-.94-2.06-.94-.94-2.06-.94 2.06-2.06.94zm-11 1L8.5 8.5l.94-2.06 2.06-.94-2.06-.94L8.5 2.5l-.94 2.06-2.06.94zm10 10l.94 2.06.94-2.06 2.06-.94-2.06-.94-.94-2.06-.94 2.06-2.06.94z\"/><path d=\"M17.41 7.96l-1.37-1.37c-.4-.4-.92-.59-1.43-.59-.52 0-1.04.2-1.43.59L10.3 9.45l-7.72 7.72c-.78.78-.78 2.05 0 2.83L4 21.41c.39.39.9.59 1.41.59.51 0 1.02-.2 1.41-.59l7.78-7.78 2.81-2.81c.8-.78.8-2.07 0-2.86zM5.41 20L4 18.59l7.72-7.72 1.47 1.35L5.41 20z\"/>\n",
              "  </svg>\n",
              "      </button>\n",
              "      \n",
              "  <style>\n",
              "    .colab-df-container {\n",
              "      display:flex;\n",
              "      flex-wrap:wrap;\n",
              "      gap: 12px;\n",
              "    }\n",
              "\n",
              "    .colab-df-convert {\n",
              "      background-color: #E8F0FE;\n",
              "      border: none;\n",
              "      border-radius: 50%;\n",
              "      cursor: pointer;\n",
              "      display: none;\n",
              "      fill: #1967D2;\n",
              "      height: 32px;\n",
              "      padding: 0 0 0 0;\n",
              "      width: 32px;\n",
              "    }\n",
              "\n",
              "    .colab-df-convert:hover {\n",
              "      background-color: #E2EBFA;\n",
              "      box-shadow: 0px 1px 2px rgba(60, 64, 67, 0.3), 0px 1px 3px 1px rgba(60, 64, 67, 0.15);\n",
              "      fill: #174EA6;\n",
              "    }\n",
              "\n",
              "    [theme=dark] .colab-df-convert {\n",
              "      background-color: #3B4455;\n",
              "      fill: #D2E3FC;\n",
              "    }\n",
              "\n",
              "    [theme=dark] .colab-df-convert:hover {\n",
              "      background-color: #434B5C;\n",
              "      box-shadow: 0px 1px 3px 1px rgba(0, 0, 0, 0.15);\n",
              "      filter: drop-shadow(0px 1px 2px rgba(0, 0, 0, 0.3));\n",
              "      fill: #FFFFFF;\n",
              "    }\n",
              "  </style>\n",
              "\n",
              "      <script>\n",
              "        const buttonEl =\n",
              "          document.querySelector('#df-793bb6f3-e395-403c-9601-43f9421ae47f button.colab-df-convert');\n",
              "        buttonEl.style.display =\n",
              "          google.colab.kernel.accessAllowed ? 'block' : 'none';\n",
              "\n",
              "        async function convertToInteractive(key) {\n",
              "          const element = document.querySelector('#df-793bb6f3-e395-403c-9601-43f9421ae47f');\n",
              "          const dataTable =\n",
              "            await google.colab.kernel.invokeFunction('convertToInteractive',\n",
              "                                                     [key], {});\n",
              "          if (!dataTable) return;\n",
              "\n",
              "          const docLinkHtml = 'Like what you see? Visit the ' +\n",
              "            '<a target=\"_blank\" href=https://colab.research.google.com/notebooks/data_table.ipynb>data table notebook</a>'\n",
              "            + ' to learn more about interactive tables.';\n",
              "          element.innerHTML = '';\n",
              "          dataTable['output_type'] = 'display_data';\n",
              "          await google.colab.output.renderOutput(dataTable, element);\n",
              "          const docLink = document.createElement('div');\n",
              "          docLink.innerHTML = docLinkHtml;\n",
              "          element.appendChild(docLink);\n",
              "        }\n",
              "      </script>\n",
              "    </div>\n",
              "  </div>\n",
              "  "
            ],
            "text/plain": [
              "                                                text  spam\n",
              "0  Subject: naturally irresistible your corporate...     1\n",
              "1  Subject: the stock trading gunslinger  fanny i...     1\n",
              "2  Subject: unbelievable new homes made easy  im ...     1\n",
              "3  Subject: 4 color printing special  request add...     1\n",
              "4  Subject: do not have money , get software cds ...     1"
            ]
          },
          "metadata": {},
          "execution_count": 20
        }
      ]
    },
    {
      "cell_type": "code",
      "source": [
        "data.shape"
      ],
      "metadata": {
        "colab": {
          "base_uri": "https://localhost:8080/"
        },
        "id": "PDVOf98lF8iZ",
        "outputId": "c7536359-1d5c-48c7-ac6c-b879dda67032"
      },
      "execution_count": null,
      "outputs": [
        {
          "output_type": "execute_result",
          "data": {
            "text/plain": [
              "(5728, 2)"
            ]
          },
          "metadata": {},
          "execution_count": 21
        }
      ]
    },
    {
      "cell_type": "code",
      "source": [
        "x=data['text']\n",
        "y=data['spam']"
      ],
      "metadata": {
        "id": "uzW00w06GON9"
      },
      "execution_count": null,
      "outputs": []
    },
    {
      "cell_type": "code",
      "source": [
        "print(\"counts of spam: {}, label is {}\".format(sum(y==1),'1'))\n",
        "print(\"counts of not_spam: {}, label is {}\".format(sum(y==0),'0'))"
      ],
      "metadata": {
        "colab": {
          "base_uri": "https://localhost:8080/"
        },
        "id": "xDc7lJ4hJ2Ea",
        "outputId": "8d975325-0067-4735-a322-d10a29ea9f2f"
      },
      "execution_count": null,
      "outputs": [
        {
          "output_type": "stream",
          "name": "stdout",
          "text": [
            "counts of spam: 1368, label is 1\n",
            "counts of not_spam: 4360, label is 0\n"
          ]
        }
      ]
    },
    {
      "cell_type": "code",
      "source": [
        "x=x.values.tolist()\n",
        "type(x)"
      ],
      "metadata": {
        "colab": {
          "base_uri": "https://localhost:8080/"
        },
        "id": "pxWZ4-TVKSXr",
        "outputId": "ded7b03c-3654-4e04-d055-a1d0eab45a71"
      },
      "execution_count": null,
      "outputs": [
        {
          "output_type": "execute_result",
          "data": {
            "text/plain": [
              "list"
            ]
          },
          "metadata": {},
          "execution_count": 24
        }
      ]
    },
    {
      "cell_type": "markdown",
      "source": [
        "Pre Process Data (NLP)"
      ],
      "metadata": {
        "id": "cuKHBnEMLjGm"
      }
    },
    {
      "cell_type": "code",
      "source": [
        "data=remsc(x)"
      ],
      "metadata": {
        "id": "7Ei3qebOLlUp"
      },
      "execution_count": null,
      "outputs": []
    },
    {
      "cell_type": "code",
      "source": [
        "my_Vectorizer=TfidfVectorizer(tokenizer=tok,stop_words=sw, ngram_range=(1,1))"
      ],
      "metadata": {
        "id": "loAxbo7gL-oA"
      },
      "execution_count": null,
      "outputs": []
    },
    {
      "cell_type": "code",
      "source": [
        "Vector_x=my_Vectorizer.fit_transform(data)\n",
        "print(Vector_x.toarray())"
      ],
      "metadata": {
        "colab": {
          "base_uri": "https://localhost:8080/"
        },
        "id": "7f_2Mz79Mo92",
        "outputId": "c6f8853f-fd39-4329-8c64-36b448112cbd"
      },
      "execution_count": null,
      "outputs": [
        {
          "output_type": "stream",
          "name": "stdout",
          "text": [
            "[[0. 0. 0. ... 0. 0. 0.]\n",
            " [0. 0. 0. ... 0. 0. 0.]\n",
            " [0. 0. 0. ... 0. 0. 0.]\n",
            " ...\n",
            " [0. 0. 0. ... 0. 0. 0.]\n",
            " [0. 0. 0. ... 0. 0. 0.]\n",
            " [0. 0. 0. ... 0. 0. 0.]]\n"
          ]
        }
      ]
    },
    {
      "cell_type": "code",
      "source": [
        "Vector_x.shape"
      ],
      "metadata": {
        "colab": {
          "base_uri": "https://localhost:8080/"
        },
        "id": "RgozK0vwNhdT",
        "outputId": "75df3812-0980-49e6-d234-179c445442ad"
      },
      "execution_count": null,
      "outputs": [
        {
          "output_type": "execute_result",
          "data": {
            "text/plain": [
              "(5728, 33563)"
            ]
          },
          "metadata": {},
          "execution_count": 28
        }
      ]
    },
    {
      "cell_type": "code",
      "source": [
        "my_Vectorizer.get_feature_names()"
      ],
      "metadata": {
        "colab": {
          "base_uri": "https://localhost:8080/"
        },
        "id": "KpKubK8BNBvT",
        "outputId": "ab4ba0e3-ae2e-4ec6-9f23-fb5a65541f85"
      },
      "execution_count": null,
      "outputs": [
        {
          "output_type": "stream",
          "name": "stderr",
          "text": [
            "/usr/local/lib/python3.7/dist-packages/sklearn/utils/deprecation.py:87: FutureWarning: Function get_feature_names is deprecated; get_feature_names is deprecated in 1.0 and will be removed in 1.2. Please use get_feature_names_out instead.\n",
            "  warnings.warn(msg, category=FutureWarning)\n"
          ]
        },
        {
          "output_type": "execute_result",
          "data": {
            "text/plain": [
              "['aa',\n",
              " 'aaa',\n",
              " 'aaaenerfax',\n",
              " 'aadedeji',\n",
              " 'aagrawal',\n",
              " 'aal',\n",
              " 'aaldous',\n",
              " 'aaliyah',\n",
              " 'aall',\n",
              " 'aanalysis',\n",
              " 'aaron',\n",
              " 'aawesome',\n",
              " 'ab',\n",
              " 'aba',\n",
              " 'abacha',\n",
              " 'abacus',\n",
              " 'abahy',\n",
              " 'abaixo',\n",
              " 'abandon',\n",
              " 'abandoned',\n",
              " 'abandonment',\n",
              " 'abargain',\n",
              " 'abarr',\n",
              " 'abattoir',\n",
              " 'abb',\n",
              " 'abbas',\n",
              " 'abbestellen',\n",
              " 'abbott',\n",
              " 'abbreviated',\n",
              " 'abbreviation',\n",
              " 'abc',\n",
              " 'abcsearch',\n",
              " 'abdalla',\n",
              " 'abdallat',\n",
              " 'abdelnour',\n",
              " 'abdul',\n",
              " 'abdulla',\n",
              " 'abdullah',\n",
              " 'abeis',\n",
              " 'abel',\n",
              " 'abello',\n",
              " 'abels',\n",
              " 'aber',\n",
              " 'abernathy',\n",
              " 'abetted',\n",
              " 'abeyance',\n",
              " 'abf',\n",
              " 'abhay',\n",
              " 'abide',\n",
              " 'abidjan',\n",
              " 'abiiity',\n",
              " 'abilene',\n",
              " 'abilities',\n",
              " 'ability',\n",
              " 'abilmesi',\n",
              " 'abit',\n",
              " 'abitibi',\n",
              " 'abklaeren',\n",
              " 'abl',\n",
              " 'able',\n",
              " 'abler',\n",
              " 'abliged',\n",
              " 'ablx',\n",
              " 'ably',\n",
              " 'abn',\n",
              " 'abnegate',\n",
              " 'abnormal',\n",
              " 'abnormality',\n",
              " 'aboard',\n",
              " 'abolish',\n",
              " 'abondantly',\n",
              " 'abook',\n",
              " 'aboriginal',\n",
              " 'abormalities',\n",
              " 'abort',\n",
              " 'abortive',\n",
              " 'abouts',\n",
              " 'aboutthis',\n",
              " 'aboutus',\n",
              " 'aboutvenita',\n",
              " 'aboveground',\n",
              " 'abovenet',\n",
              " 'abovetelefax',\n",
              " 'abqewvbgf',\n",
              " 'abr',\n",
              " 'abraham',\n",
              " 'abramov',\n",
              " 'abramowicz',\n",
              " 'abrams',\n",
              " 'abrasive',\n",
              " 'abreast',\n",
              " 'abreo',\n",
              " 'abridged',\n",
              " 'abroad',\n",
              " 'abs',\n",
              " 'abscissa',\n",
              " 'absconded',\n",
              " 'absence',\n",
              " 'absense',\n",
              " 'absent',\n",
              " 'absolute',\n",
              " 'absolutely',\n",
              " 'absolutes',\n",
              " 'absolve',\n",
              " 'absolved',\n",
              " 'absorb',\n",
              " 'absorbing',\n",
              " 'absorbowac',\n",
              " 'absorbs',\n",
              " 'absorption',\n",
              " 'absoutely',\n",
              " 'abspielt',\n",
              " 'abstained',\n",
              " 'abstract',\n",
              " 'abstractive',\n",
              " 'abstracts',\n",
              " 'abstruse',\n",
              " 'absultely',\n",
              " 'absurd',\n",
              " 'abu',\n",
              " 'abuja',\n",
              " 'abundance',\n",
              " 'abundancegroup',\n",
              " 'abundant',\n",
              " 'abundantly',\n",
              " 'abuse',\n",
              " 'abused',\n",
              " 'abusive',\n",
              " 'abutler',\n",
              " 'aby',\n",
              " 'abyssinia',\n",
              " 'ac',\n",
              " 'acacia',\n",
              " 'academe',\n",
              " 'academia',\n",
              " 'academic',\n",
              " 'academically',\n",
              " 'academicians',\n",
              " 'academics',\n",
              " 'academy',\n",
              " 'acadia',\n",
              " 'acadrep',\n",
              " 'acc',\n",
              " 'accelerate',\n",
              " 'accelerated',\n",
              " 'accelerating',\n",
              " 'acceleration',\n",
              " 'accellerate',\n",
              " 'accent',\n",
              " 'accentuates',\n",
              " 'accenture',\n",
              " 'accept',\n",
              " 'acceptability',\n",
              " 'acceptable',\n",
              " 'acceptance',\n",
              " 'accepted',\n",
              " 'accepting',\n",
              " 'accepts',\n",
              " 'acces',\n",
              " 'accesing',\n",
              " 'acceso',\n",
              " 'accesos',\n",
              " 'access',\n",
              " 'accessed',\n",
              " 'accessenergy',\n",
              " 'accesses',\n",
              " 'accessibility',\n",
              " 'accessible',\n",
              " 'accessing',\n",
              " 'accessories',\n",
              " 'accident',\n",
              " 'accidentally',\n",
              " 'accidents',\n",
              " 'acclaimed',\n",
              " 'acclivity',\n",
              " 'accommodate',\n",
              " 'accommodates',\n",
              " 'accommodating',\n",
              " 'accommodation',\n",
              " 'accommodations',\n",
              " 'accomodate',\n",
              " 'accomodated',\n",
              " 'accomodates',\n",
              " 'accomodating',\n",
              " 'accomodation',\n",
              " 'accomodations',\n",
              " 'accomodative',\n",
              " 'accompanied',\n",
              " 'accompanies',\n",
              " 'accompanist',\n",
              " 'accompany',\n",
              " 'accompanying',\n",
              " 'accomplish',\n",
              " 'accomplished',\n",
              " 'accomplishemnts',\n",
              " 'accomplishing',\n",
              " 'accomplishment',\n",
              " 'accomplishments',\n",
              " 'accord',\n",
              " 'accordance',\n",
              " 'according',\n",
              " 'accordingly',\n",
              " 'account',\n",
              " 'accountability',\n",
              " 'accountable',\n",
              " 'accountant',\n",
              " 'accountants',\n",
              " 'accounted',\n",
              " 'accountif',\n",
              " 'accounting',\n",
              " 'accounton',\n",
              " 'accounts',\n",
              " 'accreditation',\n",
              " 'accredited',\n",
              " 'accrual',\n",
              " 'accruals',\n",
              " 'accrue',\n",
              " 'accrued',\n",
              " 'accruing',\n",
              " 'acct',\n",
              " 'accumuiation',\n",
              " 'accumulate',\n",
              " 'accumulated',\n",
              " 'accumulating',\n",
              " 'accumulation',\n",
              " 'accumulations',\n",
              " 'accuracy',\n",
              " 'accurate',\n",
              " 'accurately',\n",
              " 'accusation',\n",
              " 'accuse',\n",
              " 'accused',\n",
              " 'accustomed',\n",
              " 'accuweather',\n",
              " 'accuwx',\n",
              " 'ace',\n",
              " 'acel',\n",
              " 'acepta',\n",
              " 'acetylene',\n",
              " 'aceuticai',\n",
              " 'ach',\n",
              " 'aches',\n",
              " 'achievable',\n",
              " 'achieve',\n",
              " 'achieved',\n",
              " 'achievement',\n",
              " 'achievements',\n",
              " 'achieves',\n",
              " 'achieving',\n",
              " 'achy',\n",
              " 'acid',\n",
              " 'acidic',\n",
              " 'acima',\n",
              " 'acitivities',\n",
              " 'ack',\n",
              " 'acknowledge',\n",
              " 'acknowledged',\n",
              " 'acknowledgement',\n",
              " 'acknowledgements',\n",
              " 'acknowledges',\n",
              " 'acknowledging',\n",
              " 'acl',\n",
              " 'aco',\n",
              " 'acoh',\n",
              " 'acoplamentos',\n",
              " 'acpw',\n",
              " 'acquaint',\n",
              " 'acquaintance',\n",
              " 'acquainted',\n",
              " 'acquiescence',\n",
              " 'acquire',\n",
              " 'acquired',\n",
              " 'acquires',\n",
              " 'acquiring',\n",
              " 'acquisition',\n",
              " 'acquisitions',\n",
              " 'acre',\n",
              " 'acres',\n",
              " 'acrimony',\n",
              " 'acrobat',\n",
              " 'acronyms',\n",
              " 'across',\n",
              " 'acrylic',\n",
              " 'act',\n",
              " 'acted',\n",
              " 'acting',\n",
              " 'actinic',\n",
              " 'action',\n",
              " 'actions',\n",
              " 'activate',\n",
              " 'activated',\n",
              " 'activation',\n",
              " 'active',\n",
              " 'actively',\n",
              " 'activex',\n",
              " 'activities',\n",
              " 'activity',\n",
              " 'acts',\n",
              " 'actua',\n",
              " 'actual',\n",
              " 'actuality',\n",
              " 'actuallising',\n",
              " 'actually',\n",
              " 'actuallyreverses',\n",
              " 'actuals',\n",
              " 'actuarial',\n",
              " 'actuaries',\n",
              " 'actuary',\n",
              " 'actuators',\n",
              " 'acucmulated',\n",
              " 'acumen',\n",
              " 'acutal',\n",
              " 'acute',\n",
              " 'acxiom',\n",
              " 'acy',\n",
              " 'ad',\n",
              " 'ada',\n",
              " 'adage',\n",
              " 'adam',\n",
              " 'adamant',\n",
              " 'adamantly',\n",
              " 'adambob',\n",
              " 'adamik',\n",
              " 'adams',\n",
              " 'adapt',\n",
              " 'adapted',\n",
              " 'adapter',\n",
              " 'adapters',\n",
              " 'adapting',\n",
              " 'adaptive',\n",
              " 'adapts',\n",
              " 'adare',\n",
              " 'adauction',\n",
              " 'adclick',\n",
              " 'add',\n",
              " 'added',\n",
              " 'addendum',\n",
              " 'addicted',\n",
              " 'addictive',\n",
              " 'addin',\n",
              " 'adding',\n",
              " 'addiontionally',\n",
              " 'addition',\n",
              " 'additiona',\n",
              " 'additionai',\n",
              " 'additional',\n",
              " 'additionaliy',\n",
              " 'additionally',\n",
              " 'additionnal',\n",
              " 'additions',\n",
              " 'additive',\n",
              " 'additivity',\n",
              " 'additonal',\n",
              " 'addr',\n",
              " 'addres',\n",
              " 'address',\n",
              " 'addressdatabases',\n",
              " 'addressed',\n",
              " 'addressee',\n",
              " 'addressees',\n",
              " 'addresses',\n",
              " 'addressess',\n",
              " 'addressgood',\n",
              " 'addressing',\n",
              " 'addressl',\n",
              " 'addressmake',\n",
              " 'adds',\n",
              " 'addtion',\n",
              " 'adducing',\n",
              " 'ade',\n",
              " 'adedamola',\n",
              " 'adedeji',\n",
              " 'adel',\n",
              " 'adelaide',\n",
              " 'aden',\n",
              " 'adenauera',\n",
              " 'adenda',\n",
              " 'adenovector',\n",
              " 'adept',\n",
              " 'adequacy',\n",
              " 'adequate',\n",
              " 'adequately',\n",
              " 'adewale',\n",
              " 'adeyinka',\n",
              " 'adgas',\n",
              " 'adhadwal',\n",
              " 'adhar',\n",
              " 'adhere',\n",
              " 'adhered',\n",
              " 'adherence',\n",
              " 'adheres',\n",
              " 'adhering',\n",
              " 'adhesive',\n",
              " 'adhesives',\n",
              " 'adib',\n",
              " 'adicciones',\n",
              " 'adii',\n",
              " 'adina',\n",
              " 'adinfo',\n",
              " 'ading',\n",
              " 'adjacent',\n",
              " 'adjected',\n",
              " 'adjesting',\n",
              " 'adjohnso',\n",
              " 'adjourn',\n",
              " 'adjournment',\n",
              " 'adjourns',\n",
              " 'adjunct',\n",
              " 'adjuntos',\n",
              " 'adjust',\n",
              " 'adjustable',\n",
              " 'adjusted',\n",
              " 'adjusting',\n",
              " 'adjustment',\n",
              " 'adjustments',\n",
              " 'adjusts',\n",
              " 'adjutancy',\n",
              " 'adler',\n",
              " 'adm',\n",
              " 'admerchant',\n",
              " 'admin',\n",
              " 'adminder',\n",
              " 'administer',\n",
              " 'administered',\n",
              " 'administering',\n",
              " 'administers',\n",
              " 'administration',\n",
              " 'administrations',\n",
              " 'administrative',\n",
              " 'administratively',\n",
              " 'administrator',\n",
              " 'administrators',\n",
              " 'adminitrative',\n",
              " 'admins',\n",
              " 'adminscript',\n",
              " 'adminsitrative',\n",
              " 'adminstrative',\n",
              " 'admirably',\n",
              " 'admiral',\n",
              " 'admiration',\n",
              " 'admire',\n",
              " 'admired',\n",
              " 'admissible',\n",
              " 'admission',\n",
              " 'admissions',\n",
              " 'admit',\n",
              " 'admits',\n",
              " 'admittance',\n",
              " 'admitted',\n",
              " 'admix',\n",
              " 'admixture',\n",
              " 'admonition',\n",
              " 'adnan',\n",
              " 'adnoc',\n",
              " 'ado',\n",
              " 'adobe',\n",
              " 'adobechoose',\n",
              " 'adolescent',\n",
              " 'adolescentes',\n",
              " 'adolfo',\n",
              " 'adonna',\n",
              " 'adopt',\n",
              " 'adopted',\n",
              " 'adopting',\n",
              " 'adoption',\n",
              " 'adopts',\n",
              " 'adoration',\n",
              " 'adore',\n",
              " 'adovor',\n",
              " 'adp',\n",
              " 'adposition',\n",
              " 'adqueen',\n",
              " 'adreporting',\n",
              " 'adres',\n",
              " 'adress',\n",
              " 'adresse',\n",
              " 'adresses',\n",
              " 'adrian',\n",
              " 'adriana',\n",
              " 'adrianbold',\n",
              " 'adrianne',\n",
              " 'adrrf',\n",
              " 'ads',\n",
              " 'adshwe',\n",
              " 'adsini',\n",
              " 'adsl',\n",
              " 'aduit',\n",
              " 'adult',\n",
              " 'adultpaysites',\n",
              " 'adults',\n",
              " 'adultwebmasters',\n",
              " 'adupont',\n",
              " 'adv',\n",
              " 'advance',\n",
              " 'advanced',\n",
              " 'advancement',\n",
              " 'advances',\n",
              " 'advancing',\n",
              " 'advancve',\n",
              " 'advantage',\n",
              " 'advantageous',\n",
              " 'advantages',\n",
              " 'advantaqes',\n",
              " 'advent',\n",
              " 'adventure',\n",
              " 'adventurous',\n",
              " 'adverse',\n",
              " 'adversity',\n",
              " 'advertise',\n",
              " 'advertised',\n",
              " 'advertisement',\n",
              " 'advertisements',\n",
              " 'advertiser',\n",
              " 'advertisers',\n",
              " 'advertisersplash',\n",
              " 'advertising',\n",
              " 'advertizing',\n",
              " 'advice',\n",
              " 'advicer',\n",
              " 'advisable',\n",
              " 'advise',\n",
              " 'advised',\n",
              " 'advisement',\n",
              " 'adviser',\n",
              " 'advisers',\n",
              " 'advises',\n",
              " 'advising',\n",
              " 'advisor',\n",
              " 'advisors',\n",
              " 'advisory',\n",
              " 'advocacy',\n",
              " 'advocate',\n",
              " 'advocates',\n",
              " 'advocating',\n",
              " 'ae',\n",
              " 'aeasterby',\n",
              " 'aeecl',\n",
              " 'aegis',\n",
              " 'aeopublishing',\n",
              " 'aep',\n",
              " 'aer',\n",
              " 'aeremenko',\n",
              " 'aerify',\n",
              " 'aero',\n",
              " 'aerofoam',\n",
              " 'aerofoammetals',\n",
              " 'aeron',\n",
              " 'aeronautic',\n",
              " 'aeronautical',\n",
              " 'aeronavigation',\n",
              " 'aerons',\n",
              " 'aerospace',\n",
              " 'aerpac',\n",
              " 'aesop',\n",
              " 'aesp',\n",
              " 'af',\n",
              " 'afa',\n",
              " 'afaoaf',\n",
              " 'afast',\n",
              " 'afc',\n",
              " 'afdt',\n",
              " 'affair',\n",
              " 'affaire',\n",
              " 'affaires',\n",
              " 'affairs',\n",
              " 'affect',\n",
              " 'affected',\n",
              " 'affecteusement',\n",
              " 'affecting',\n",
              " 'affective',\n",
              " 'affects',\n",
              " 'affid',\n",
              " 'affidavit',\n",
              " 'affidavits',\n",
              " 'affiiiate',\n",
              " 'affiiiated',\n",
              " 'affiliate',\n",
              " 'affiliated',\n",
              " 'affiliates',\n",
              " 'affiliation',\n",
              " 'affiliations',\n",
              " 'affinity',\n",
              " 'affirmative',\n",
              " 'affirmed',\n",
              " 'affix',\n",
              " 'afflatus',\n",
              " 'afflicted',\n",
              " 'afflictions',\n",
              " 'affluence',\n",
              " 'affluent',\n",
              " 'afforable',\n",
              " 'afford',\n",
              " 'affordability',\n",
              " 'affordable',\n",
              " 'affordabowl',\n",
              " 'afforded',\n",
              " 'affords',\n",
              " 'afft',\n",
              " 'afire',\n",
              " 'afoot',\n",
              " 'aford',\n",
              " 'afore',\n",
              " 'aforementioned',\n",
              " 'afpe',\n",
              " 'afraid',\n",
              " 'afree',\n",
              " 'africa',\n",
              " 'african',\n",
              " 'africans',\n",
              " 'aft',\n",
              " 'afteading',\n",
              " 'aftermath',\n",
              " 'afternoon',\n",
              " 'afternoondc',\n",
              " 'afternoons',\n",
              " 'afterthought',\n",
              " 'afterward',\n",
              " 'afterwards',\n",
              " 'ag',\n",
              " 'aga',\n",
              " 'againstyear',\n",
              " 'agarwal',\n",
              " 'agarwalla',\n",
              " 'agarwallah',\n",
              " 'agato',\n",
              " 'agc',\n",
              " 'agdesteen',\n",
              " 'age',\n",
              " 'aged',\n",
              " 'agencies',\n",
              " 'agency',\n",
              " 'agenda',\n",
              " 'agendal',\n",
              " 'agendas',\n",
              " 'agent',\n",
              " 'agents',\n",
              " 'agentur',\n",
              " 'agerhardt',\n",
              " 'ages',\n",
              " 'agg',\n",
              " 'aggrandisement',\n",
              " 'aggregate',\n",
              " 'aggregated',\n",
              " 'aggregates',\n",
              " 'aggregating',\n",
              " 'aggregation',\n",
              " 'aggregator',\n",
              " 'aggressive',\n",
              " 'aggressively',\n",
              " 'aggressor',\n",
              " 'aghh',\n",
              " 'agileconcepts',\n",
              " 'agility',\n",
              " 'agin',\n",
              " 'aging',\n",
              " 'agitate',\n",
              " 'aglife',\n",
              " 'agnes',\n",
              " 'agnihotri',\n",
              " 'agnomen',\n",
              " 'ago',\n",
              " 'agowe',\n",
              " 'agradecer',\n",
              " 'agrawal',\n",
              " 'agree',\n",
              " 'agreeable',\n",
              " 'agreed',\n",
              " 'agreeing',\n",
              " 'agreelment',\n",
              " 'agreemeent',\n",
              " 'agreement',\n",
              " 'agreements',\n",
              " 'agrees',\n",
              " 'agressively',\n",
              " 'agresti',\n",
              " 'agri',\n",
              " 'agricaltural',\n",
              " 'agricultural',\n",
              " 'agriculture',\n",
              " 'agriculturists',\n",
              " 'agrocom',\n",
              " 'aguardando',\n",
              " 'aguardo',\n",
              " 'aguilar',\n",
              " 'agus',\n",
              " 'ah',\n",
              " 'ahad',\n",
              " 'ahamer',\n",
              " 'ahc',\n",
              " 'ahead',\n",
              " 'aherns',\n",
              " 'ahi',\n",
              " 'ahmad',\n",
              " 'ahmedabad',\n",
              " 'ahn',\n",
              " 'ahora',\n",
              " 'ahotsexycouple',\n",
              " 'ai',\n",
              " 'aiberta',\n",
              " 'aibums',\n",
              " 'aicohoi',\n",
              " 'aicohol',\n",
              " 'aid',\n",
              " 'aida',\n",
              " 'aidan',\n",
              " 'aide',\n",
              " 'aided',\n",
              " 'aider',\n",
              " 'aides',\n",
              " 'aids',\n",
              " 'aiesec',\n",
              " 'aieseec',\n",
              " 'aig',\n",
              " 'aihf',\n",
              " 'aii',\n",
              " 'aiias',\n",
              " 'aiignment',\n",
              " 'aiity',\n",
              " 'ail',\n",
              " 'aileen',\n",
              " 'ailiance',\n",
              " 'ailin',\n",
              " 'ailing',\n",
              " 'ailowing',\n",
              " 'ailures',\n",
              " 'aim',\n",
              " 'aima',\n",
              " 'aime',\n",
              " 'aimed',\n",
              " 'aimeedodson',\n",
              " 'aimfunds',\n",
              " 'aiming',\n",
              " 'aimone',\n",
              " 'aims',\n",
              " 'aine',\n",
              " 'ainsi',\n",
              " 'ainsley',\n",
              " 'aiong',\n",
              " 'air',\n",
              " 'airam',\n",
              " 'airbill',\n",
              " 'airbus',\n",
              " 'aircraft',\n",
              " 'aircrafts',\n",
              " 'aiready',\n",
              " 'aireal',\n",
              " 'aired',\n",
              " 'aires',\n",
              " 'airfaire',\n",
              " 'airfare',\n",
              " 'airfares',\n",
              " 'airgas',\n",
              " 'airing',\n",
              " 'airline',\n",
              " 'airlines',\n",
              " 'airliquide',\n",
              " 'airplane',\n",
              " 'airport',\n",
              " 'airports',\n",
              " 'airshed',\n",
              " 'airway',\n",
              " 'airworthiness',\n",
              " 'aisa',\n",
              " 'aisaac',\n",
              " 'aisha',\n",
              " 'aishling',\n",
              " 'aisle',\n",
              " 'aiso',\n",
              " 'ait',\n",
              " 'aithough',\n",
              " 'aitken',\n",
              " 'aiuminum',\n",
              " 'aiways',\n",
              " 'aix',\n",
              " 'aj',\n",
              " 'ajaokuta',\n",
              " 'ajay',\n",
              " 'ajello',\n",
              " 'aji',\n",
              " 'ajimenez',\n",
              " 'ajit',\n",
              " 'ajnam',\n",
              " 'ajo',\n",
              " 'ajudar',\n",
              " 'ak',\n",
              " 'aka',\n",
              " 'akaike',\n",
              " 'akamai',\n",
              " 'akdwyer',\n",
              " 'aked',\n",
              " 'akhave',\n",
              " 'akin',\n",
              " 'akllp',\n",
              " 'aknowledging',\n",
              " 'akron',\n",
              " 'aktualnie',\n",
              " 'al',\n",
              " 'alabama',\n",
              " 'alabi',\n",
              " 'alaca',\n",
              " 'alacak',\n",
              " 'alacarteresearch',\n",
              " 'alain',\n",
              " 'alaina',\n",
              " 'alamo',\n",
              " 'alamonsoff',\n",
              " 'alamos',\n",
              " 'alan',\n",
              " 'alang',\n",
              " 'alarm',\n",
              " 'alarmas',\n",
              " 'alarms',\n",
              " 'alaska',\n",
              " 'alaskan',\n",
              " 'alaw',\n",
              " 'albanis',\n",
              " 'albeit',\n",
              " 'albert',\n",
              " 'alberta',\n",
              " 'alberto',\n",
              " 'albertson',\n",
              " 'albion',\n",
              " 'albo',\n",
              " 'albrecht',\n",
              " 'album',\n",
              " 'albums',\n",
              " 'alcantara',\n",
              " 'alcar',\n",
              " 'alcoa',\n",
              " 'alcohoi',\n",
              " 'alcohol',\n",
              " 'alda',\n",
              " 'alden',\n",
              " 'alder',\n",
              " 'alderman',\n",
              " 'aldous',\n",
              " 'ale',\n",
              " 'alea',\n",
              " 'alec',\n",
              " 'alegria',\n",
              " 'alejandra',\n",
              " 'alek',\n",
              " 'aleksander',\n",
              " 'aleksandra',\n",
              " 'alert',\n",
              " 'alerted',\n",
              " 'alerts',\n",
              " 'alev',\n",
              " 'alex',\n",
              " 'alexana',\n",
              " 'alexander',\n",
              " 'alexandria',\n",
              " 'alexey',\n",
              " 'alexios',\n",
              " 'alexis',\n",
              " 'alexmann',\n",
              " 'aley',\n",
              " 'alff',\n",
              " 'alfonso',\n",
              " 'alford',\n",
              " 'alfred',\n",
              " 'alfredo',\n",
              " 'algebra',\n",
              " 'algeria',\n",
              " 'algorithm',\n",
              " 'algorithmic',\n",
              " 'algorithmical',\n",
              " 'algorithmics',\n",
              " 'algorithmist',\n",
              " 'algorithms',\n",
              " 'alhaji',\n",
              " 'alhamd',\n",
              " 'ali',\n",
              " 'alias',\n",
              " 'alibi',\n",
              " 'alice',\n",
              " 'aliceposta',\n",
              " 'alicia',\n",
              " 'aliens',\n",
              " 'alight',\n",
              " 'align',\n",
              " 'alignment',\n",
              " 'alike',\n",
              " 'alimentation',\n",
              " 'alimony',\n",
              " 'aliow',\n",
              " 'aliows',\n",
              " 'aliphatic',\n",
              " 'alisa',\n",
              " 'alison',\n",
              " 'alittle',\n",
              " 'alive',\n",
              " 'alkalimetry',\n",
              " 'alkaline',\n",
              " 'alkalinity',\n",
              " 'alkhayat',\n",
              " 'alkiem',\n",
              " 'alla',\n",
              " 'allah',\n",
              " 'allan',\n",
              " 'allario',\n",
              " 'allay',\n",
              " 'allayannis',\n",
              " 'allayed',\n",
              " 'alldo',\n",
              " 'allegation',\n",
              " 'allegations',\n",
              " 'alleged',\n",
              " 'allegheny',\n",
              " 'alleging',\n",
              " 'allegoric',\n",
              " 'allen',\n",
              " 'allens',\n",
              " 'allerdings',\n",
              " 'allergies',\n",
              " 'alleviate',\n",
              " 'alleviations',\n",
              " 'alliance',\n",
              " 'allianceexpressl',\n",
              " 'alliances',\n",
              " 'alliant',\n",
              " 'allianz',\n",
              " 'alliece',\n",
              " 'allied',\n",
              " 'allison',\n",
              " 'alll',\n",
              " 'allmerica',\n",
              " 'allocate',\n",
              " 'allocated',\n",
              " 'allocating',\n",
              " 'allocation',\n",
              " 'allocations',\n",
              " 'allocution',\n",
              " 'allotted',\n",
              " 'allow',\n",
              " 'allowance',\n",
              " 'allowances',\n",
              " 'allowed',\n",
              " 'allowing',\n",
              " 'allows',\n",
              " 'alloy',\n",
              " 'allright',\n",
              " 'allstates',\n",
              " 'allude',\n",
              " 'alluded',\n",
              " 'alluding',\n",
              " 'allure',\n",
              " 'allusion',\n",
              " 'allusions',\n",
              " 'alluvium',\n",
              " 'ally',\n",
              " 'allyannis',\n",
              " 'alm',\n",
              " 'alma',\n",
              " 'almaty',\n",
              " 'almazan',\n",
              " 'almelo',\n",
              " 'almighty',\n",
              " 'almost',\n",
              " 'alms',\n",
              " 'aloe',\n",
              " 'alon',\n",
              " 'alone',\n",
              " 'along',\n",
              " 'alongside',\n",
              " 'alongwith',\n",
              " 'alonso',\n",
              " 'alot',\n",
              " 'alp',\n",
              " 'alpan',\n",
              " 'alpbach',\n",
              " 'alpbacher',\n",
              " 'alpha',\n",
              " 'alphabet',\n",
              " 'alphabetical',\n",
              " 'alphabetically',\n",
              " 'alphanumeric',\n",
              " 'alpharetta',\n",
              " 'already',\n",
              " 'alright',\n",
              " 'als',\n",
              " 'alsd',\n",
              " 'also',\n",
              " 'alst',\n",
              " 'alstom',\n",
              " 'alstrom',\n",
              " 'alt',\n",
              " 'alta',\n",
              " 'altadena',\n",
              " 'altair',\n",
              " 'altamont',\n",
              " 'altar',\n",
              " 'altemus',\n",
              " 'alter',\n",
              " 'altera',\n",
              " 'alteration',\n",
              " 'alterations',\n",
              " 'altercation',\n",
              " 'altered',\n",
              " 'alterman',\n",
              " ...]"
            ]
          },
          "metadata": {},
          "execution_count": 29
        }
      ]
    },
    {
      "cell_type": "markdown",
      "source": [
        "Train Test Split"
      ],
      "metadata": {
        "id": "KtKE0yjMN0yr"
      }
    },
    {
      "cell_type": "code",
      "source": [
        "from sklearn.model_selection import train_test_split\n",
        "X_train,X_test,y_train,y_test= train_test_split(Vector_x,np.array(y), test_size=0.25)"
      ],
      "metadata": {
        "id": "kcni2opyNm53"
      },
      "execution_count": null,
      "outputs": []
    },
    {
      "cell_type": "code",
      "source": [
        "X_train.shape,X_test.shape,y_train.shape,y_test.shape"
      ],
      "metadata": {
        "colab": {
          "base_uri": "https://localhost:8080/"
        },
        "id": "ctUblbeoOyYO",
        "outputId": "b66734e9-cd81-4f10-da3c-c1d31986104c"
      },
      "execution_count": null,
      "outputs": [
        {
          "output_type": "execute_result",
          "data": {
            "text/plain": [
              "((4296, 33563), (1432, 33563), (4296,), (1432,))"
            ]
          },
          "metadata": {},
          "execution_count": 31
        }
      ]
    },
    {
      "cell_type": "markdown",
      "source": [
        "Classification"
      ],
      "metadata": {
        "id": "PDL7OAspPJnY"
      }
    },
    {
      "cell_type": "code",
      "source": [
        "#for data that has normal/Gaussian distribution\n",
        "\n",
        "from sklearn.naive_bayes import GaussianNB\n",
        "clf_Gaussian= GaussianNB()\n",
        "clf_Gaussian.fit(X_train.toarray(), y_train)\n",
        "\n",
        "y_pred1=clf_Gaussian.predict(X_test.toarray())\n",
        "\n",
        "from sklearn.metrics import accuracy_score\n",
        "print(accuracy_score(y_test,y_pred1))"
      ],
      "metadata": {
        "id": "QuHE2omjPLAr",
        "colab": {
          "base_uri": "https://localhost:8080/"
        },
        "outputId": "0fa84fda-7438-43b8-ab39-f0ff1f42e2eb"
      },
      "execution_count": null,
      "outputs": [
        {
          "output_type": "stream",
          "name": "stdout",
          "text": [
            "0.9511173184357542\n"
          ]
        }
      ]
    },
    {
      "cell_type": "code",
      "source": [
        "#When there is class imbalance\n",
        "from sklearn.naive_bayes import ComplementNB\n",
        "clf_complement= ComplementNB()\n",
        "clf_complement.fit(X_train.toarray(), y_train)\n",
        "\n",
        "y_pred2=clf_complement.predict(X_test.toarray())\n",
        "\n",
        "from sklearn.metrics import accuracy_score\n",
        "print(accuracy_score(y_test,y_pred2))"
      ],
      "metadata": {
        "colab": {
          "base_uri": "https://localhost:8080/"
        },
        "id": "IxgHJcEaZReX",
        "outputId": "e81a3874-1128-4d61-9d98-c4319337cd35"
      },
      "execution_count": null,
      "outputs": [
        {
          "output_type": "stream",
          "name": "stdout",
          "text": [
            "0.9518156424581006\n"
          ]
        }
      ]
    },
    {
      "cell_type": "code",
      "source": [
        "#when there is multivariate input features\n",
        "from sklearn.naive_bayes import BernoulliNB\n",
        "clf_Bernoulli= BernoulliNB()\n",
        "clf_Bernoulli.fit(X_train.toarray(), y_train)\n",
        "\n",
        "y_pred3=clf_Bernoulli.predict(X_test.toarray())\n",
        "\n",
        "print(accuracy_score(y_test,y_pred3))"
      ],
      "metadata": {
        "colab": {
          "base_uri": "https://localhost:8080/"
        },
        "id": "7DTXlKSsZy_-",
        "outputId": "4c6a309c-0114-4c5f-9887-a9d5d7317822"
      },
      "execution_count": null,
      "outputs": [
        {
          "output_type": "stream",
          "name": "stdout",
          "text": [
            "0.9685754189944135\n"
          ]
        }
      ]
    },
    {
      "cell_type": "markdown",
      "source": [
        "Predicting a new input"
      ],
      "metadata": {
        "id": "a_HD2F_paWXj"
      }
    },
    {
      "cell_type": "code",
      "source": [
        "new_email=[]\n",
        "new_email.append(input(\"Enter your email here:\"))"
      ],
      "metadata": {
        "colab": {
          "base_uri": "https://localhost:8080/"
        },
        "id": "aWHvPgSPdRL1",
        "outputId": "059a893e-1554-421b-de1b-3866877a66d1"
      },
      "execution_count": null,
      "outputs": [
        {
          "name": "stdout",
          "output_type": "stream",
          "text": [
            "Enter your email here:hello ishita, hope you are doing well. give regards to your family\n"
          ]
        }
      ]
    },
    {
      "cell_type": "code",
      "source": [
        "s=remsc(new_email)\n",
        "Vector_email= my_Vectorizer.transform(s)"
      ],
      "metadata": {
        "id": "o7MxnkMhbTFv"
      },
      "execution_count": null,
      "outputs": []
    },
    {
      "cell_type": "code",
      "source": [
        "pred=clf_complement.predict(Vector_email.toarray())\n",
        "pred"
      ],
      "metadata": {
        "colab": {
          "base_uri": "https://localhost:8080/"
        },
        "id": "ls4tbBxabgfA",
        "outputId": "c3758137-6050-4ef3-a1f7-a7d4cb818d83"
      },
      "execution_count": null,
      "outputs": [
        {
          "output_type": "execute_result",
          "data": {
            "text/plain": [
              "array([0])"
            ]
          },
          "metadata": {},
          "execution_count": 56
        }
      ]
    },
    {
      "cell_type": "code",
      "source": [
        "if(pred[0]==0):\n",
        "  print('Not a spam')\n",
        "\n",
        "else:\n",
        "  print('It is a spam')"
      ],
      "metadata": {
        "colab": {
          "base_uri": "https://localhost:8080/"
        },
        "id": "8NkNeKMtbs3G",
        "outputId": "97117e22-d9f6-4293-b116-3fe3b1c68cdb"
      },
      "execution_count": null,
      "outputs": [
        {
          "output_type": "stream",
          "name": "stdout",
          "text": [
            "Not a spam\n"
          ]
        }
      ]
    }
  ]
}